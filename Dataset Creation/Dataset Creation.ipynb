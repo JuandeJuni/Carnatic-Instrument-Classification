{
 "cells": [
  {
   "cell_type": "markdown",
   "id": "cdc769a2",
   "metadata": {},
   "source": [
    "## 1. Dataset Creation"
   ]
  },
  {
   "cell_type": "code",
   "execution_count": 24,
   "id": "be66d91f",
   "metadata": {},
   "outputs": [
    {
     "name": "stdout",
     "output_type": "stream",
     "text": [
      "The autoreload extension is already loaded. To reload it, use:\n",
      "  %reload_ext autoreload\n"
     ]
    }
   ],
   "source": [
    "%load_ext autoreload\n",
    "%autoreload 2"
   ]
  },
  {
   "cell_type": "markdown",
   "id": "ccfc91d9",
   "metadata": {},
   "source": [
    "This notebook should serve as a guide to the creation of your Carnatic Music Instrument dataset. We will start with the loading of the dataset using the mirdata API, extract the relevant sections and instruments, apply any relevant processing steps, and store the dataset in an intuitive and accessible format.\n",
    "\n",
    "Typical Carnatic Music ensembles contain a wide-range of instruments. For this task we are going to focus on:\n",
    "\n",
    "- Voice\n",
    "- Violin\n",
    "- Mridangam\n",
    "\n",
    "You can refer to the instrumentation section of the [compIAM tutorial](https://mtg.github.io/IAM-tutorial-ismir22/indian_art_music/carnatic-music.html) for more information.\n",
    "\n",
    "The final dataset will be a collection of short audios corresponding to each of these instruments. They will be organised such that each can be retrieved according to the instrument they contain, the performer, the raga and a unique identifier (for reproducibility later).\n",
    "\n",
    "It is up to you to fill in each subsection with the relevant code to perform that task. If possible, try and split the sections amongst the project group to work in parallel. When the task is complete, you should try and abstract the code into .py files so that it can be ran without a python notebook."
   ]
  },
  {
   "cell_type": "markdown",
   "id": "a0ee5df1",
   "metadata": {},
   "source": [
    "### Explore Dataset"
   ]
  },
  {
   "cell_type": "markdown",
   "id": "b2399dd0",
   "metadata": {},
   "source": [
    "You can access the Saraga Carnatic dataset using the [mirdata API](https://github.com/mir-dataset-loaders/mirdata). You should already have the dataset downloaded on your machine in the mirdata repository."
   ]
  },
  {
   "cell_type": "code",
   "execution_count": 1,
   "id": "6020868f",
   "metadata": {},
   "outputs": [],
   "source": [
    "import mirdata"
   ]
  },
  {
   "cell_type": "code",
   "execution_count": 2,
   "id": "3811c98b",
   "metadata": {},
   "outputs": [],
   "source": [
    "#CHANGE FOR YOUR PATH TO DATASET\n",
    "data_home = r'C:\\Users\\laiam\\Desktop\\UNI 4T\\TallerMusical\\data'"
   ]
  },
  {
   "cell_type": "code",
   "execution_count": 3,
   "id": "a539b7ec",
   "metadata": {},
   "outputs": [
    {
     "name": "stderr",
     "output_type": "stream",
     "text": [
      "100%|██████████| 249/249 [01:25<00:00,  2.92it/s]\n",
      "INFO: Success: the dataset is complete and all files are valid.\n",
      "INFO: --------------------\n"
     ]
    },
    {
     "data": {
      "text/plain": [
       "({'tracks': {}}, {'tracks': {}})"
      ]
     },
     "execution_count": 3,
     "metadata": {},
     "output_type": "execute_result"
    }
   ],
   "source": [
    "saraga = mirdata.initialize('saraga_carnatic',data_home=data_home)\n",
    "saraga.validate()"
   ]
  },
  {
   "cell_type": "markdown",
   "id": "6099dc97",
   "metadata": {},
   "source": [
    "You can choose a random track using `.choice_track()`. This returns a Track object."
   ]
  },
  {
   "cell_type": "code",
   "execution_count": 47,
   "id": "5663de54",
   "metadata": {},
   "outputs": [],
   "source": [
    "example_track = saraga.choice_track()"
   ]
  },
  {
   "cell_type": "markdown",
   "id": "attached-waters",
   "metadata": {},
   "source": [
    "You can load all tracks and information to a dict using `.load_tracks()`"
   ]
  },
  {
   "cell_type": "code",
   "execution_count": 29,
   "id": "eligible-champion",
   "metadata": {
    "scrolled": true
   },
   "outputs": [],
   "source": [
    "all_tracks = saraga.load_tracks()"
   ]
  },
  {
   "cell_type": "markdown",
   "id": "advisory-musical",
   "metadata": {},
   "source": [
    "This returns a dict of `unique track identifier` : `track` object for each track."
   ]
  },
  {
   "cell_type": "markdown",
   "id": "balanced-penguin",
   "metadata": {},
   "source": [
    "Track objects contain all filepaths of audios and metadata associated with the chosen track, and some information related to the recording itself (such as artist names and instruments). Remember, that for many recordings, we have 4 audio files relevant to our task...\n",
    "\n",
    "\n",
    "The path of the final mixed performance:"
   ]
  },
  {
   "cell_type": "code",
   "execution_count": 30,
   "id": "measured-leadership",
   "metadata": {},
   "outputs": [
    {
     "data": {
      "text/plain": [
       "'C:\\\\UPF\\\\2023\\\\3rd Term\\\\Taller\\\\DataAPI\\\\saraga1.5_carnatic/Sumitra Nitin at Arkay by Sumitra Nitin/Dorakuna/Dorakuna.mp3.mp3'"
      ]
     },
     "execution_count": 30,
     "metadata": {},
     "output_type": "execute_result"
    }
   ],
   "source": [
    "example_track.audio_path"
   ]
  },
  {
   "cell_type": "markdown",
   "id": "friendly-nickel",
   "metadata": {},
   "source": [
    "The path of the vocal microphone:"
   ]
  },
  {
   "cell_type": "code",
   "execution_count": 31,
   "id": "straight-drinking",
   "metadata": {},
   "outputs": [
    {
     "data": {
      "text/plain": [
       "'C:\\\\UPF\\\\2023\\\\3rd Term\\\\Taller\\\\DataAPI\\\\saraga1.5_carnatic/Sumitra Nitin at Arkay by Sumitra Nitin/Dorakuna/Dorakuna.multitrack-vocal.mp3'"
      ]
     },
     "execution_count": 31,
     "metadata": {},
     "output_type": "execute_result"
    }
   ],
   "source": [
    "example_track.audio_vocal_path"
   ]
  },
  {
   "cell_type": "markdown",
   "id": "specialized-memory",
   "metadata": {},
   "source": [
    "The path of the violin microphone:"
   ]
  },
  {
   "cell_type": "code",
   "execution_count": 32,
   "id": "stable-religious",
   "metadata": {},
   "outputs": [
    {
     "data": {
      "text/plain": [
       "'C:\\\\UPF\\\\2023\\\\3rd Term\\\\Taller\\\\DataAPI\\\\saraga1.5_carnatic/Sumitra Nitin at Arkay by Sumitra Nitin/Dorakuna/Dorakuna.multitrack-violin.mp3'"
      ]
     },
     "execution_count": 32,
     "metadata": {},
     "output_type": "execute_result"
    }
   ],
   "source": [
    "example_track.audio_violin_path"
   ]
  },
  {
   "cell_type": "markdown",
   "id": "understanding-wagon",
   "metadata": {},
   "source": [
    "And two mridangam microphones (one for each head):"
   ]
  },
  {
   "cell_type": "code",
   "execution_count": 33,
   "id": "union-turning",
   "metadata": {},
   "outputs": [
    {
     "data": {
      "text/plain": [
       "'C:\\\\UPF\\\\2023\\\\3rd Term\\\\Taller\\\\DataAPI\\\\saraga1.5_carnatic/Sumitra Nitin at Arkay by Sumitra Nitin/Dorakuna/Dorakuna.multitrack-mridangam-left.mp3'"
      ]
     },
     "execution_count": 33,
     "metadata": {},
     "output_type": "execute_result"
    }
   ],
   "source": [
    "example_track.audio_mridangam_left_path"
   ]
  },
  {
   "cell_type": "code",
   "execution_count": 34,
   "id": "documented-oliver",
   "metadata": {},
   "outputs": [
    {
     "data": {
      "text/plain": [
       "'C:\\\\UPF\\\\2023\\\\3rd Term\\\\Taller\\\\DataAPI\\\\saraga1.5_carnatic/Sumitra Nitin at Arkay by Sumitra Nitin/Dorakuna/Dorakuna.multitrack-mridangam-right.mp3'"
      ]
     },
     "execution_count": 34,
     "metadata": {},
     "output_type": "execute_result"
    }
   ],
   "source": [
    "example_track.audio_mridangam_right_path"
   ]
  },
  {
   "cell_type": "markdown",
   "id": "embedded-picnic",
   "metadata": {},
   "source": [
    "Navigate to these files and listen to the audios. What do you notice about them? Are they the same intensity? Is there any undesirable artifacts such as leaking or noise?\n",
    "\n",
    "Take note, the `mirdata` `Track` object will not have a `audio_vocal_path` (or vocal or mridangam) attribute if for the given track there is no multi-microphone recordings. Can you use this information to determine how many tracks we have multi-microphone recordings for? (HINT: You can check if an object has a specific attribute using the hasattr function: `hasattr(obj, \"<attribute_to_check_for>\")`."
   ]
  },
  {
   "cell_type": "code",
   "execution_count": 48,
   "id": "sweet-focus",
   "metadata": {},
   "outputs": [
    {
     "name": "stdout",
     "output_type": "stream",
     "text": [
      "168\n"
     ]
    }
   ],
   "source": [
    "# How many tracks with multitrack recordings?\n",
    "counter = 0\n",
    "for i in saraga.track_ids:\n",
    "    if saraga.track(i).audio_violin_path is not None:\n",
    "        counter += 1\n",
    "print(counter)\n"
   ]
  },
  {
   "cell_type": "markdown",
   "id": "talented-guess",
   "metadata": {},
   "source": [
    "Another important path is the metadata_path:"
   ]
  },
  {
   "cell_type": "code",
   "execution_count": 54,
   "id": "angry-sheffield",
   "metadata": {},
   "outputs": [
    {
     "name": "stdout",
     "output_type": "stream",
     "text": [
      "{'raaga': [{'uuid': '123b09bd-9901-4e64-a65a-10b02c9e0597', 'name': 'Bhairavi'}], 'form': [], 'title': 'Amba Kamakshi', 'work': [{'mbid': 'a566c7d3-ecaa-41c1-8a38-f9e5e123dbeb', 'title': 'Amba Kamakshi'}], 'length': 3943497, 'taala': [{'uuid': '7eb02ed9-2dcb-471f-9a8a-a09aa5cea633', 'name': 'Miśra chāpu'}], 'album_artists': [{'mbid': 'e35056cb-44f2-4438-8a7c-d797c846c09d', 'name': 'Vignesh Ishwar'}], 'mbid': '34edbdf2-4505-47af-b1cd-5d09aa97d49d', 'artists': [{'instrument': {'mbid': '089f123c-0f7d-4105-a64e-49de81ca8fa4', 'name': 'Violin'}, 'attributes': '', 'lead': False, 'artist': {'mbid': '0384a7d9-4e97-4058-9971-160a32893d4d', 'name': 'M. Rajeev'}}, {'instrument': {'mbid': 'f689271c-37bc-4c49-92a3-a14b15ee5d0e', 'name': 'Mridangam'}, 'attributes': '', 'lead': False, 'artist': {'mbid': '7395c4af-909f-4530-a6a7-4d81251647b4', 'name': 'Mannarkoil J Balaji'}}, {'instrument': {'mbid': 'c5aa7d98-c14d-4ff1-8afb-f8743c62496c', 'name': 'Ghatam'}, 'attributes': '', 'lead': False, 'artist': {'mbid': 'db2231e8-55bd-4f31-b3b0-e499ed1c2527', 'name': 'Chandrasekara Sharma'}}, {'instrument': {'mbid': 'd92884b7-ee0c-46d5-96f3-918196ba8c5b', 'name': 'Voice'}, 'attributes': 'lead vocals', 'lead': True, 'artist': {'mbid': 'e35056cb-44f2-4438-8a7c-d797c846c09d', 'name': 'Vignesh Ishwar'}}], 'concert': [{'mbid': 'cb57cf86-a392-4cf6-825c-6172f7adb0f2', 'title': 'Vignesh Ishwar at Nada Inbam'}]}\n"
     ]
    }
   ],
   "source": [
    "metadata_path = example_track.metadata\n",
    "print(metadata_path)"
   ]
  },
  {
   "cell_type": "markdown",
   "id": "residential-activation",
   "metadata": {},
   "source": [
    "Here you will find information relating to the recording such as artist names, instruments, raaga."
   ]
  },
  {
   "cell_type": "markdown",
   "id": "major-university",
   "metadata": {},
   "source": [
    "Can you create some functions to explore these tracks and metadata? Perhaps it would be useful to know that JSON can be loaded in python using the `json` library:"
   ]
  },
  {
   "cell_type": "code",
   "execution_count": 50,
   "id": "broken-section",
   "metadata": {},
   "outputs": [],
   "source": [
    "import json\n",
    "\n",
    "with open(\"DataAPI\\saraga1.5_carnatic\\Mahati at Arkay by Mahati\\Chinnanchiru Kiliye\\Chinnanchiru Kiliye.json\", 'r') as f:\n",
    "    loaded_json = json.loads(f.read())"
   ]
  },
  {
   "cell_type": "code",
   "execution_count": 60,
   "id": "unique-lobby",
   "metadata": {},
   "outputs": [],
   "source": [
    "def get_metadata(track_id):\n",
    "    \"\"\"\n",
    "    For <track_id>, return a dataframe of associated metadata\n",
    "    \"\"\"\n",
    "    metadata = saraga.track(track_id).metadata\n",
    "    \n",
    "    return metadata\n",
    "\n",
    "def get_performer(track_id):\n",
    "    \"\"\"\n",
    "    For <track_id>, return the performer\n",
    "    \"\"\"\n",
    "    performer = saraga.track(track_id).metadata[\"album_artists\"]\n",
    "    return performer\n",
    "\n",
    "def get_performance(track_id):\n",
    "    \"\"\"\n",
    "    For <track_id>, return the performance name\n",
    "    \"\"\"\n",
    "    performance = saraga.track(track_id).metadata[\"concert\"]\n",
    "    return performance\n",
    "\n",
    "def get_raga(track_id):\n",
    "    \"\"\"\n",
    "    For <track_id>, return the raga name\n",
    "    \"\"\"\n",
    "    raga = saraga.track(track_id).metadata[\"raaga\"]\n",
    "    return raga\n",
    "\n",
    "\n",
    "def get_tonic(track_id):\n",
    "    \"\"\"\n",
    "    For <track_id>, return the tonic in hertz\n",
    "    \"\"\"\n",
    "    tonic = saraga.track(track_id).tonic\n",
    "    return tonic"
   ]
  },
  {
   "cell_type": "markdown",
   "id": "pursuant-battlefield",
   "metadata": {},
   "source": [
    "How many ragas/performers/performances are available? How does that breakdown across performances for which we have multi-track recordings and those we dont?"
   ]
  },
  {
   "cell_type": "code",
   "execution_count": 62,
   "id": "simplified-forty",
   "metadata": {},
   "outputs": [
    {
     "data": {
      "text/plain": [
       "[{'mbid': 'cb57cf86-a392-4cf6-825c-6172f7adb0f2',\n",
       "  'title': 'Vignesh Ishwar at Nada Inbam'}]"
      ]
     },
     "execution_count": 62,
     "metadata": {},
     "output_type": "execute_result"
    }
   ],
   "source": [
    "# get dataset statistics\n",
    "get_performance(example_track.track_id)"
   ]
  },
  {
   "cell_type": "markdown",
   "id": "e9756db3",
   "metadata": {},
   "source": [
    "### Load Audio"
   ]
  },
  {
   "cell_type": "markdown",
   "id": "favorite-auction",
   "metadata": {},
   "source": [
    "The mirdata API returns paths to audio files associated with each track. Can you create some loaders to load an audio based on a given track name? \n",
    "\n",
    "**Hint**: The `librosa` library contains functions to load audio from file to an array of amplitude values. `y, sr = librosa.load(audio_path, sr=44100)`. `sr` in this instance refers to the sampling rate of the audio, i.e. how many individual amplitude energy values there are per second (typically 44100Hz). It is important to remember this resolution when converting between number of elements in the returned array and time in the track."
   ]
  },
  {
   "cell_type": "code",
   "execution_count": 40,
   "id": "legendary-imaging",
   "metadata": {},
   "outputs": [],
   "source": [
    "def load_mixed_audio(track_id):\n",
    "    \"\"\"\n",
    "    For <track_id>, return the loaded audio\n",
    "    \"\"\"\n",
    "    # code here\n",
    "    return audio_array\n",
    "\n",
    "def load_violin_audio(track_id):\n",
    "    \"\"\"\n",
    "    For <track_id>, return the isolated violin track\n",
    "    \"\"\"\n",
    "    # code here\n",
    "    return audio_array\n",
    "\n",
    "def load_voice_audio(track_id):\n",
    "    \"\"\"\n",
    "    For <track_id>, return the isolated voice track\n",
    "    \"\"\"\n",
    "    # code here\n",
    "    return audio_array\n",
    "\n",
    "def load_mridangam_audio(track_id):\n",
    "    \"\"\"\n",
    "    For <track_id>, return the isolated mridangam track\n",
    "    \"\"\"\n",
    "    # code here\n",
    "    return audio_array"
   ]
  },
  {
   "cell_type": "markdown",
   "id": "genetic-hours",
   "metadata": {},
   "source": [
    "### Listen to Audio"
   ]
  },
  {
   "cell_type": "markdown",
   "id": "complex-beverage",
   "metadata": {},
   "source": [
    "Let's write some functions to listen and visualise these audio arrays in the notebook. \n",
    "\n",
    "**Hint**: You should find that the `Ipythoon.display.Audio` useful for playing audio inline in a Jupyter notebook.\n",
    "\n",
    "**Hint2**: Using the `matplotlib` library you can plot on two dimensions as so:\n",
    "\n",
    "```\n",
    "import matplotlib.pyplot as plt\n",
    "\n",
    "plt.plot(x, y)\n",
    "```\n",
    "More information on enhancing these plots (e.g. with titles, axis labels and gridlines) can be found [here](https://matplotlib.org/stable/gallery/lines_bars_and_markers/simple_plot.html)."
   ]
  },
  {
   "cell_type": "code",
   "execution_count": 41,
   "id": "chinese-virtue",
   "metadata": {},
   "outputs": [],
   "source": [
    "def plot_waveform(audio_array):\n",
    "    \"\"\"\n",
    "    Plot waveform for <audio_array> using matplotlib.pyplot\n",
    "    \"\"\"\n",
    "    pass\n",
    "\n",
    "\n",
    "def play_audio(audio_array):\n",
    "    \"\"\"\n",
    "    Generate audio player for <audio_array> using Ipython library\n",
    "    \"\"\"\n",
    "    pass"
   ]
  },
  {
   "cell_type": "markdown",
   "id": "spectacular-cornell",
   "metadata": {},
   "source": [
    "Are there any important observations about the mixed or isolated instrument tracks? What is the quality like, do you here all of the instruments clearly? Are there any differences between the audios of the individual instrument tracks?"
   ]
  },
  {
   "cell_type": "markdown",
   "id": "naked-currency",
   "metadata": {},
   "source": [
    "### Processing"
   ]
  },
  {
   "cell_type": "markdown",
   "id": "alive-lease",
   "metadata": {},
   "source": [
    "Are the isolated vocal tracks sufficiently isolated? Libraries like [`spleeter`](https://github.com/deezer/spleeter) can help separate singing sources from background instruments. Does it help here?"
   ]
  },
  {
   "cell_type": "code",
   "execution_count": 42,
   "id": "intellectual-earth",
   "metadata": {},
   "outputs": [],
   "source": [
    "def separate_voice(audio_path, isolated_audio_output_path):\n",
    "    \"\"\"\n",
    "    Apply spleeter source separation to input audio\n",
    "    \"\"\"\n",
    "    pass"
   ]
  },
  {
   "cell_type": "markdown",
   "id": "appropriate-forum",
   "metadata": {},
   "source": [
    "How does the quality compare? Does spleeter work effectively? Do we lose any important information?"
   ]
  },
  {
   "cell_type": "markdown",
   "id": "promotional-november",
   "metadata": {},
   "source": [
    "### Tagging Audio"
   ]
  },
  {
   "cell_type": "markdown",
   "id": "configured-genius",
   "metadata": {},
   "source": [
    "We want to tag our audios with whether or not a particular instrument is sounding. We can do this by identifying non-silent regions in the isolated tracks and tagging the mixed tracks with the instrument. The `librosa` library contains functionality for identifying silent regions in audio (`librosa.effects.split`)."
   ]
  },
  {
   "cell_type": "code",
   "execution_count": 43,
   "id": "dramatic-rough",
   "metadata": {},
   "outputs": [],
   "source": [
    "# Load audios for each instrument track using previously defined functions"
   ]
  },
  {
   "cell_type": "code",
   "execution_count": 44,
   "id": "alternate-america",
   "metadata": {},
   "outputs": [],
   "source": [
    "# Plot samples of audios (remember the relationship between elements and sampling rate)"
   ]
  },
  {
   "cell_type": "markdown",
   "id": "charged-university",
   "metadata": {},
   "source": [
    "Define a function to identify silent regions in an audio array. Look at the documentation for `librosa.effects.split` ([here](https://librosa.org/doc/main/generated/librosa.effects.split.html)). \n",
    "\n",
    "**Hint** - The `top_db` parameter tunes the harshness of the cut (a higher value considers louder regions as \"silent\"). Experiment with this value and compare the results with the audio plots. Do they correspond to what you visualise/hear?\n",
    "\n",
    "**Remember** - `librosa.effects.split` returns NON-silent intervals."
   ]
  },
  {
   "cell_type": "code",
   "execution_count": 45,
   "id": "cardiac-webster",
   "metadata": {},
   "outputs": [],
   "source": [
    "def detect_silence(audio_array):\n",
    "    \"\"\"\n",
    "    Return array of 0 and 1 (is silent/is not silent) for input <audio_array>. Returned array should\n",
    "    be equal in length to input array\n",
    "    \"\"\"\n",
    "    return is_silent"
   ]
  },
  {
   "cell_type": "markdown",
   "id": "signed-parish",
   "metadata": {},
   "source": [
    "Do these regions correspond to what you hear when playing the audio with `play_audio` or what you see with `plot_waveform`?"
   ]
  },
  {
   "cell_type": "code",
   "execution_count": 46,
   "id": "circular-behalf",
   "metadata": {},
   "outputs": [
    {
     "ename": "NameError",
     "evalue": "name 'y_mridangam_left' is not defined",
     "output_type": "error",
     "traceback": [
      "\u001b[1;31m---------------------------------------------------------------------------\u001b[0m",
      "\u001b[1;31mNameError\u001b[0m                                 Traceback (most recent call last)",
      "\u001b[1;32m~\\AppData\\Local\\Temp\\ipykernel_14320\\2983167836.py\u001b[0m in \u001b[0;36m<module>\u001b[1;34m\u001b[0m\n\u001b[1;32m----> 1\u001b[1;33m \u001b[0mmridangam\u001b[0m \u001b[1;33m=\u001b[0m \u001b[1;33m[\u001b[0m\u001b[0mint\u001b[0m\u001b[1;33m(\u001b[0m\u001b[0mx\u001b[0m \u001b[1;32mor\u001b[0m \u001b[0my\u001b[0m\u001b[1;33m)\u001b[0m \u001b[1;32mfor\u001b[0m \u001b[0mx\u001b[0m\u001b[1;33m,\u001b[0m\u001b[0my\u001b[0m \u001b[1;32min\u001b[0m \u001b[0mzip\u001b[0m\u001b[1;33m(\u001b[0m\u001b[0my_mridangam_left\u001b[0m\u001b[1;33m,\u001b[0m \u001b[0my_mridangam_right\u001b[0m\u001b[1;33m)\u001b[0m\u001b[1;33m]\u001b[0m\u001b[1;33m\u001b[0m\u001b[1;33m\u001b[0m\u001b[0m\n\u001b[0m",
      "\u001b[1;31mNameError\u001b[0m: name 'y_mridangam_left' is not defined"
     ]
    }
   ],
   "source": [
    "mridangam = [int(x or y) for x,y in zip(y_mridangam_left, y_mridangam_right)]"
   ]
  },
  {
   "cell_type": "markdown",
   "id": "loose-venue",
   "metadata": {},
   "source": [
    "### Extracting Samples"
   ]
  },
  {
   "cell_type": "markdown",
   "id": "pending-court",
   "metadata": {},
   "source": [
    "We should now have all the tools necessary to load and annotated audio. We now want to extract small snippets of audio  from the mixed tracks across the dataset and annotate each of these snippets as either containing voice, mridangam, violin or none of the above (a single audio should be able to have more than one tag). \n",
    "\n",
    "It is important that we have examples for all combinations of tags (violin, voice, mridangam, none). Each sample should be of the same length (what should that length be? think about the two extreme cases of very very short and very long, what problems would arise in each of these cases).\n",
    "\n",
    "Each sample should have a unique identifier (index). The information relating to their tags should be stored in a metadata DataFrame where you can also find information about the performance.\n",
    "\n",
    "These should all be saved in individual audio files.\n",
    "\n",
    "Let us try with just on track to begin with..."
   ]
  },
  {
   "cell_type": "markdown",
   "id": "skilled-design",
   "metadata": {},
   "source": [
    "1. For a certain track id, load all audio files (mix, violin, etc...)"
   ]
  },
  {
   "cell_type": "code",
   "execution_count": null,
   "id": "severe-andrew",
   "metadata": {},
   "outputs": [],
   "source": [
    "# mix_array =\n",
    "# vocal_array =\n",
    "# violin_array =\n",
    "# vocal_array =\n",
    "# mridangam_left_array =\n",
    "# mridangam_right_array ="
   ]
  },
  {
   "cell_type": "markdown",
   "id": "latter-radius",
   "metadata": {},
   "source": [
    "2. Create a silent/non-silent array using `detect_silence()` defined earlier. \n",
    "\n",
    "      **Remember**: The mridangam has two tracks corresponding to it, you must combine them to identify whether either is sounding"
   ]
  },
  {
   "cell_type": "code",
   "execution_count": null,
   "id": "deadly-session",
   "metadata": {},
   "outputs": [],
   "source": [
    "# violin_silence = \n",
    "# vocal_silence = \n",
    "# mridangam_silnce = "
   ]
  },
  {
   "cell_type": "markdown",
   "id": "secure-basin",
   "metadata": {},
   "source": [
    "3. Split mixed audio into small chunks using [numpy array indexing](https://numpy.org/doc/stable/user/basics.indexing.html) (the size of these chunks should be informed by the literature)"
   ]
  },
  {
   "cell_type": "code",
   "execution_count": null,
   "id": "distinct-cover",
   "metadata": {},
   "outputs": [],
   "source": []
  },
  {
   "cell_type": "markdown",
   "id": "worst-horizon",
   "metadata": {},
   "source": [
    "4. Determine from your silent/non-silent arrays in Step 2 whether the chunk contains each instrument (voice, vocal, mridangam"
   ]
  },
  {
   "cell_type": "code",
   "execution_count": null,
   "id": "missing-simpson",
   "metadata": {},
   "outputs": [],
   "source": [
    "# Slice silence arrays identically to mix slice and determine yes/no does chunk contain instrument"
   ]
  },
  {
   "cell_type": "markdown",
   "id": "passive-congress",
   "metadata": {},
   "source": [
    "5. Save each audio with a unique index.\n",
    "\n",
    "    **Hint**: Audio arrays can be saved to file using the `soundfile` library:\n",
    "    `sf.write('<filename>.wav', <audio_array>, <sampling rate>)`\n",
    "    \n",
    "    **Remember**: Each audio chunk  needs to be assigned a unique index so as to be managed correctly later on. Feel free to use numbers, hashes or uuids"
   ]
  },
  {
   "cell_type": "code",
   "execution_count": null,
   "id": "suited-consultancy",
   "metadata": {},
   "outputs": [],
   "source": [
    "# store audio with soundfile"
   ]
  },
  {
   "cell_type": "markdown",
   "id": "false-rebate",
   "metadata": {},
   "source": [
    "6. Add row to metadata table containing relevant track information, index, and instrument annotations.\n",
    "\n",
    "    **Hint** - A `pandas` dataframe is a suitable place to store information relating to track and instrument annotations. You can create one using: \n",
    "\n",
    "    `import pandas as pd`\n",
    "\n",
    "    `df = pd.DataFrame(columns=<list of columns names>])`\n",
    "    \n",
    "    Add new rows using append:\n",
    "    \n",
    "    `df.append({dict of {column_name:value>, ignore_index=True)`\n",
    "    \n",
    "    And save using:\n",
    "    \n",
    "    `df.to_csv('<path.csv>', index=False)`\n",
    "    \n",
    "    **Remember** - This table should include the metadata relating to the track, the unique chunk index and a column indicating whether or not it includes each instrument \n",
    "    "
   ]
  },
  {
   "cell_type": "code",
   "execution_count": null,
   "id": "desperate-technique",
   "metadata": {},
   "outputs": [],
   "source": [
    "# metadata dataframe"
   ]
  },
  {
   "cell_type": "markdown",
   "id": "continued-diana",
   "metadata": {},
   "source": [
    "7. Repeat for many tracks and many chunks. Now you have written the individual code to do this for one track/chunk. Let's combine this and apply to a large number of tracks/chunks. Storing each with a unique index and a row in the metadata dataframe."
   ]
  },
  {
   "cell_type": "markdown",
   "id": "boolean-validation",
   "metadata": {},
   "source": [
    "### Load Dataset"
   ]
  },
  {
   "cell_type": "markdown",
   "id": "perfect-ocean",
   "metadata": {},
   "source": [
    "With our dataset created and saved in an intuitive and accessible format. Let's create some loaders to load the files and get metadata."
   ]
  },
  {
   "cell_type": "code",
   "execution_count": null,
   "id": "81dbad83",
   "metadata": {},
   "outputs": [],
   "source": [
    "def load_sample(index):\n",
    "    \"\"\"\n",
    "    Load sample with index, <index>\n",
    "    \"\"\"\n",
    "    return sample\n",
    "\n",
    "def get_metadata(index):\n",
    "    \"\"\"\n",
    "    Get metadata for sample with index, <index>\n",
    "    \"\"\"\n",
    "    return sample"
   ]
  },
  {
   "cell_type": "markdown",
   "id": "turkish-concert",
   "metadata": {},
   "source": [
    "Typically, when datasets are presented, they are accompanied by some stats detailing their size and constiuent parts. What stats can you tell us about our dataset? Think about: number of seconds, performers, performances, instruments, ragas, filesizes etc.... "
   ]
  },
  {
   "cell_type": "code",
   "execution_count": null,
   "id": "featured-opera",
   "metadata": {},
   "outputs": [],
   "source": [
    "# stats"
   ]
  },
  {
   "cell_type": "markdown",
   "id": "swiss-match",
   "metadata": {},
   "source": [
    "### Reproducible Code"
   ]
  },
  {
   "cell_type": "markdown",
   "id": "small-chicago",
   "metadata": {},
   "source": [
    "Jupyter notebooks are great for experimenting, especially when visualisation or audio playback is required. However they are not great for reproducibility or source control. Can you abstract the code created here to .py file(s) so that the code can be ran in future without having to load the HTML notebook?"
   ]
  }
 ],
 "metadata": {
  "kernelspec": {
   "display_name": "Python 3",
   "language": "python",
   "name": "python3"
  },
  "language_info": {
   "codemirror_mode": {
    "name": "ipython",
    "version": 3
   },
   "file_extension": ".py",
   "mimetype": "text/x-python",
   "name": "python",
   "nbconvert_exporter": "python",
   "pygments_lexer": "ipython3",
   "version": "3.9.13"
  }
 },
 "nbformat": 4,
 "nbformat_minor": 5
}
