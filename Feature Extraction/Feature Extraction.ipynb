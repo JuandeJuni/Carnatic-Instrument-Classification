{
 "cells": [
  {
   "cell_type": "markdown",
   "id": "premier-merchandise",
   "metadata": {},
   "source": [
    "# 2. Feature Extraction"
   ]
  },
  {
   "cell_type": "markdown",
   "id": "pretty-award",
   "metadata": {},
   "source": [
    "In this notebook we will extract various audio features for a sample of audio. We will focus on the time domain features of:\n",
    "\n",
    "- Amplitude Envelope \n",
    "- Root-Mean-Squared Energy\n",
    "- Zero Crossing Rate\n",
    "\n",
    "The frequency domain features of:\n",
    "\n",
    "- Band Energy Ratio\n",
    "- Spectral Centroid\n",
    "- Bandwidth\n",
    "- Mel Frequency Cepstral Coefficients\n",
    "\n",
    "And the pitch curve features of:\n",
    "- Minimum Pitch\n",
    "- Maximum Pitch\n",
    "- Pitch Range\n",
    "- Number of Change Points"
   ]
  },
  {
   "cell_type": "markdown",
   "id": "terminal-leonard",
   "metadata": {},
   "source": [
    "## 2.1 Load Samples"
   ]
  },
  {
   "cell_type": "markdown",
   "id": "amazing-fraction",
   "metadata": {},
   "source": [
    "Before beginning let's load a single performance audio. If computing power is a limitation you might want to consider loading the entire audio and taking a sample to work with for this notebook.\n",
    "\n",
    "Hint: `librosa.load` might be useful"
   ]
  },
  {
   "cell_type": "code",
   "execution_count": 7,
   "id": "neural-reaction",
   "metadata": {},
   "outputs": [],
   "source": [
    "audio_path = 'koti_janmani.mp3'"
   ]
  },
  {
   "cell_type": "code",
   "execution_count": 8,
   "id": "2c5d1d34",
   "metadata": {},
   "outputs": [],
   "source": [
    "sr = 44100\n",
    "#laia y laia"
   ]
  },
  {
   "cell_type": "code",
   "execution_count": 9,
   "id": "nearby-beach",
   "metadata": {},
   "outputs": [],
   "source": [
    "import librosa\n",
    "y,_ = librosa.load(audio_path, sr=sr)"
   ]
  },
  {
   "cell_type": "code",
   "execution_count": 10,
   "id": "3de0f243",
   "metadata": {},
   "outputs": [],
   "source": [
    "y_samp = y[22*sr:round(24*sr)]"
   ]
  },
  {
   "cell_type": "markdown",
   "id": "therapeutic-delhi",
   "metadata": {},
   "source": [
    "Are you able to listen to this audio and plot the waveform.\n",
    "\n",
    "**Hint**: You should find that `sounddevice.play` is useful for playing audio inline in a Jupyter notebook.\n",
    "\n",
    "**Hint**: Using the `matplotlib` library you can plot on two dimensions as so:\n",
    "\n",
    "```\n",
    "import matplotlib.pyplot as plt\n",
    "\n",
    "plt.plot(x, y)\n",
    "```\n",
    "More information on enhancing these plots (e.g. with titles, axis labels and gridlines) can be found [here](https://matplotlib.org/stable/gallery/lines_bars_and_markers/simple_plot.html)."
   ]
  },
  {
   "cell_type": "code",
   "execution_count": 11,
   "id": "rough-morning",
   "metadata": {},
   "outputs": [],
   "source": [
    "import sounddevice as sd"
   ]
  },
  {
   "cell_type": "code",
   "execution_count": 12,
   "id": "8249f400",
   "metadata": {},
   "outputs": [],
   "source": [
    "sd.play(y_samp, sr)"
   ]
  },
  {
   "cell_type": "code",
   "execution_count": 13,
   "id": "traditional-estonia",
   "metadata": {},
   "outputs": [
    {
     "data": {
      "text/plain": [
       "Text(0, 0.5, 'Amplitude')"
      ]
     },
     "execution_count": 13,
     "metadata": {},
     "output_type": "execute_result"
    },
    {
     "data": {
      "image/png": "[encoded data removed]",
      "text/plain": [
       "<Figure size 432x288 with 1 Axes>"
      ]
     },
     "metadata": {
      "needs_background": "light"
     },
     "output_type": "display_data"
    }
   ],
   "source": [
    "import matplotlib.pyplot as plt\n",
    "x_samp = [x/sr for x in range(len(y_samp))]\n",
    "\n",
    "plt.plot(x_samp, y_samp)\n",
    "plt.title('Sample audio waveform')\n",
    "plt.xlabel('Time (s)')\n",
    "plt.ylabel('Amplitude')"
   ]
  },
  {
   "cell_type": "code",
   "execution_count": 14,
   "id": "31b5769f",
   "metadata": {},
   "outputs": [
    {
     "data": {
      "text/plain": [
       "array([-0.00439646, -0.00147826,  0.00197226, ..., -0.02151865,\n",
       "       -0.02260045, -0.02395513], dtype=float32)"
      ]
     },
     "execution_count": 14,
     "metadata": {},
     "output_type": "execute_result"
    }
   ],
   "source": [
    "y_samp"
   ]
  },
  {
   "cell_type": "markdown",
   "id": "cardiovascular-drunk",
   "metadata": {},
   "source": [
    "## 2.1 Time Domain Features"
   ]
  },
  {
   "cell_type": "markdown",
   "id": "strong-central",
   "metadata": {},
   "source": [
    "Here we will extract the time domain features of:\n",
    "\n",
    "- Amplitude Envelope \n",
    "- Root-Mean-Squared Energy\n",
    "- Zero Crossing Rate\n",
    "\n",
    "We will work with the *time domain* representation of your audio (i.e. the amplitude values loaded by your loader)."
   ]
  },
  {
   "cell_type": "markdown",
   "id": "disabled-malaysia",
   "metadata": {},
   "source": [
    "### 2.1.1 Amplitude Envelope"
   ]
  },
  {
   "cell_type": "markdown",
   "id": "hybrid-faculty",
   "metadata": {},
   "source": [
    "The amplitude is computed by splitting the  audio into frames and taking the maximum amplitude value for each frame..."
   ]
  },
  {
   "cell_type": "markdown",
   "id": "stuffed-cornwall",
   "metadata": {},
   "source": [
    "![title](images/amplitude_envelope.png)"
   ]
  },
  {
   "cell_type": "markdown",
   "id": "divine-auditor",
   "metadata": {},
   "source": [
    "Try and split your audio into frames of length `w`. \n",
    "\n",
    "**Hint**: `numpy` indexing you to take windows of size `w` from an array using `np.array_split(array, w)`."
   ]
  },
  {
   "cell_type": "code",
   "execution_count": 21,
   "id": "synthetic-executive",
   "metadata": {},
   "outputs": [],
   "source": [
    "import numpy as np\n",
    "l=0.1\n",
    "w = (len(y_samp)/sr)/l\n",
    "\n",
    "y_split = np.array_split(y_samp, w)"
   ]
  },
  {
   "cell_type": "markdown",
   "id": "governing-sunglasses",
   "metadata": {},
   "source": [
    "Take the maximum value for each window using `np.max()`.\n",
    "\n",
    "**Hint** A list comprehension may be useful here: `[<f(x)> for x in <iterable>]` where `<iterable>` is some iterable object and `<f(x)>` is some functon to apply to each  element of that iterable."
   ]
  },
  {
   "cell_type": "code",
   "execution_count": 22,
   "id": "statewide-period",
   "metadata": {},
   "outputs": [],
   "source": [
    "amp_max = [np.max(x) for x in y_split]"
   ]
  },
  {
   "cell_type": "markdown",
   "id": "advance-unemployment",
   "metadata": {},
   "source": [
    "Can you plot this envelope using `matplotlib.pyplot`. How does it compare with the original signal?"
   ]
  },
  {
   "cell_type": "code",
   "execution_count": 23,
   "id": "4b63ae43",
   "metadata": {},
   "outputs": [
    {
     "data": {
      "text/plain": [
       "[<matplotlib.lines.Line2D at 0x154ffc390>]"
      ]
     },
     "execution_count": 23,
     "metadata": {},
     "output_type": "execute_result"
    },
    {
     "data": {
      "image/png": "[encoded data removed]",
      "text/plain": [
       "<Figure size 432x288 with 1 Axes>"
      ]
     },
     "metadata": {
      "needs_background": "light"
     },
     "output_type": "display_data"
    }
   ],
   "source": [
    "plt.plot(x_samp, y_samp)\n",
    "plt.plot([x_samp[int(l*x*sr)]+l for x in range(len(amp_max))], amp_max)"
   ]
  },
  {
   "cell_type": "markdown",
   "id": "fiscal-chicken",
   "metadata": {},
   "source": [
    "### 2.1.2 Root Mean Square Energy"
   ]
  },
  {
   "cell_type": "markdown",
   "id": "buried-winter",
   "metadata": {},
   "source": [
    "The RMS energy is computed using"
   ]
  },
  {
   "cell_type": "markdown",
   "id": "superior-prototype",
   "metadata": {},
   "source": [
    "![title](images/rms_energy.png)"
   ]
  },
  {
   "cell_type": "markdown",
   "id": "successful-recycling",
   "metadata": {},
   "source": [
    "The `librosa` libray has an implementation at `librosa.feature.rms`"
   ]
  },
  {
   "cell_type": "code",
   "execution_count": 24,
   "id": "74d42fde",
   "metadata": {},
   "outputs": [],
   "source": [
    "rmse = librosa.feature.rms(y_samp, hop_length=round(l*sr), center=False)"
   ]
  },
  {
   "cell_type": "code",
   "execution_count": 25,
   "id": "599629c2",
   "metadata": {},
   "outputs": [],
   "source": [
    "rmse=rmse[0]"
   ]
  },
  {
   "cell_type": "code",
   "execution_count": 26,
   "id": "billion-independence",
   "metadata": {},
   "outputs": [
    {
     "data": {
      "text/plain": [
       "[<matplotlib.lines.Line2D at 0x155072550>]"
      ]
     },
     "execution_count": 26,
     "metadata": {},
     "output_type": "execute_result"
    },
    {
     "data": {
      "image/png": "[encoded data removed]",
      "text/plain": [
       "<Figure size 432x288 with 1 Axes>"
      ]
     },
     "metadata": {
      "needs_background": "light"
     },
     "output_type": "display_data"
    }
   ],
   "source": [
    "plt.plot(x_samp, y_samp)\n",
    "plt.plot([x_samp[int(l*x*sr)] for x in range(len(rmse))], rmse)"
   ]
  },
  {
   "cell_type": "code",
   "execution_count": 27,
   "id": "8ae13c3b",
   "metadata": {},
   "outputs": [
    {
     "data": {
      "text/plain": [
       "88200"
      ]
     },
     "execution_count": 27,
     "metadata": {},
     "output_type": "execute_result"
    }
   ],
   "source": [
    "len(x_samp)"
   ]
  },
  {
   "cell_type": "markdown",
   "id": "religious-angola",
   "metadata": {},
   "source": [
    "### 2.1.3 Zero Crossing Rate"
   ]
  },
  {
   "cell_type": "markdown",
   "id": "composed-stadium",
   "metadata": {},
   "source": [
    "The zero crossing rate is the number of times the signal crosses the x axis"
   ]
  },
  {
   "cell_type": "markdown",
   "id": "civil-iceland",
   "metadata": {},
   "source": [
    "![title](images/zero_crossing_graph.png)"
   ]
  },
  {
   "cell_type": "markdown",
   "id": "studied-cargo",
   "metadata": {},
   "source": [
    "It is computed with the following equation"
   ]
  },
  {
   "cell_type": "markdown",
   "id": "christian-nomination",
   "metadata": {},
   "source": [
    "![title](images/zero_crossing_eq.png)"
   ]
  },
  {
   "cell_type": "markdown",
   "id": "signal-tokyo",
   "metadata": {},
   "source": [
    "The `librosa` library provides an implementaton at `librosa.feature.zero_crossing_rate`"
   ]
  },
  {
   "cell_type": "code",
   "execution_count": 28,
   "id": "embedded-screening",
   "metadata": {},
   "outputs": [],
   "source": [
    "import librosa"
   ]
  },
  {
   "cell_type": "code",
   "execution_count": 29,
   "id": "d2281f91",
   "metadata": {},
   "outputs": [],
   "source": [
    "zcr = librosa.feature.zero_crossing_rate(y_samp, hop_length=round(l*sr), center=False)"
   ]
  },
  {
   "cell_type": "code",
   "execution_count": 30,
   "id": "01f9bcff",
   "metadata": {},
   "outputs": [],
   "source": [
    "zcr=zcr[0]"
   ]
  },
  {
   "cell_type": "code",
   "execution_count": 31,
   "id": "7469dc1d",
   "metadata": {},
   "outputs": [
    {
     "data": {
      "text/plain": [
       "[<matplotlib.lines.Line2D at 0x1550eca50>]"
      ]
     },
     "execution_count": 31,
     "metadata": {},
     "output_type": "execute_result"
    },
    {
     "data": {
      "image/png": "[encoded data removed]",
      "text/plain": [
       "<Figure size 432x288 with 1 Axes>"
      ]
     },
     "metadata": {
      "needs_background": "light"
     },
     "output_type": "display_data"
    }
   ],
   "source": [
    "plt.plot(x_samp, y_samp)\n",
    "plt.plot([x_samp[int(l*x*sr)] for x in range(len(zcr))], zcr)"
   ]
  },
  {
   "cell_type": "markdown",
   "id": "comic-pulse",
   "metadata": {},
   "source": [
    "## 2.2 Frequency Domain Features"
   ]
  },
  {
   "cell_type": "markdown",
   "id": "quick-shirt",
   "metadata": {},
   "source": [
    "Here we will extract the frequency domain features of:\n",
    "\n",
    "- Band Energy Ratio\n",
    "- Spectral Centroid\n",
    "- Bandwidth\n",
    "- Mel Frequency Cepstral Coefficients\n",
    "\n",
    "We will work with the **frequency domain** representation of your audio (i.e. the frequency magnitude extracted from the fourier transform of your time domain signal).\n",
    "\n",
    "Almost all implementations of these feature extractors will compute the frequency domain spectrum for you."
   ]
  },
  {
   "cell_type": "markdown",
   "id": "adequate-argentina",
   "metadata": {},
   "source": [
    "### 2.2.1 Band Energy Ratio"
   ]
  },
  {
   "cell_type": "markdown",
   "id": "alert-doctrine",
   "metadata": {},
   "source": [
    "Band energy ratio is the ratio of energy between lower and higher frequency bands divided by some threshold, `F`."
   ]
  },
  {
   "cell_type": "markdown",
   "id": "rotary-march",
   "metadata": {},
   "source": [
    "![title](images/bre_spec.png)"
   ]
  },
  {
   "cell_type": "markdown",
   "id": "responsible-tattoo",
   "metadata": {},
   "source": [
    "![title](images/bre_eq.png)"
   ]
  },
  {
   "cell_type": "markdown",
   "id": "minus-hebrew",
   "metadata": {},
   "source": [
    "The `essentia` library provides an implementation for computing the BER at `essentia.standard.EnergyBandRatio`. Import it and extract for your signal."
   ]
  },
  {
   "cell_type": "code",
   "execution_count": 33,
   "id": "final-library",
   "metadata": {},
   "outputs": [],
   "source": [
    "import essentia.standard as es"
   ]
  },
  {
   "cell_type": "code",
   "execution_count": 40,
   "id": "appointed-tooth",
   "metadata": {},
   "outputs": [
    {
     "data": {
      "text/plain": [
       "1.810790490708314e-05"
      ]
     },
     "execution_count": 40,
     "metadata": {},
     "output_type": "execute_result"
    }
   ],
   "source": [
    "w = es.Windowing(type = 'hann')\n",
    "spectrum = es.Spectrum()\n",
    "spec = spectrum(w(y_split[0]))\n",
    "ebr = es.EnergyBandRatio()\n",
    "ebr(spec)"
   ]
  },
  {
   "cell_type": "markdown",
   "id": "exact-circle",
   "metadata": {},
   "source": [
    "### 2.2.2 Spectral Centroid"
   ]
  },
  {
   "cell_type": "markdown",
   "id": "disabled-pottery",
   "metadata": {},
   "source": [
    "The spectral centroid is a weighted mean of energy across all frequency bands. It is computed as:"
   ]
  },
  {
   "cell_type": "markdown",
   "id": "rubber-tracy",
   "metadata": {},
   "source": [
    "![title](images/spec_cent.png)"
   ]
  },
  {
   "cell_type": "markdown",
   "id": "detected-europe",
   "metadata": {},
   "source": [
    "The `librosa` libary provides an implementation at `librosa.feature.spectral_centroid`."
   ]
  },
  {
   "cell_type": "code",
   "execution_count": 46,
   "id": "vietnamese-picture",
   "metadata": {},
   "outputs": [],
   "source": [
    "sc = librosa.feature.spectral_centroid(y_samp, hop_length=round(l*sr), center=False)\n",
    "sc=sc[0]"
   ]
  },
  {
   "cell_type": "code",
   "execution_count": 47,
   "id": "essential-woman",
   "metadata": {},
   "outputs": [
    {
     "data": {
      "text/plain": [
       "[<matplotlib.lines.Line2D at 0x15a627590>]"
      ]
     },
     "execution_count": 47,
     "metadata": {},
     "output_type": "execute_result"
    },
    {
     "data": {
      "image/png": "[encoded data removed]",
      "text/plain": [
       "<Figure size 432x288 with 2 Axes>"
      ]
     },
     "metadata": {
      "needs_background": "light"
     },
     "output_type": "display_data"
    }
   ],
   "source": [
    "fig = plt.figure()\n",
    "ax1 = fig.add_subplot(111)\n",
    "ax2 = ax1.twinx()\n",
    "\n",
    "ax1.plot(x_samp, y_samp, color='blue')\n",
    "ax2.plot([x_samp[int(l*x*sr)] for x in range(len(sc))], sc, color='orange')"
   ]
  },
  {
   "cell_type": "markdown",
   "id": "equivalent-ridge",
   "metadata": {},
   "source": [
    "### 2.2.3 Bandwidth"
   ]
  },
  {
   "cell_type": "markdown",
   "id": "forced-inquiry",
   "metadata": {},
   "source": [
    "The bandwidth captures the variance around spectral centroid."
   ]
  },
  {
   "cell_type": "markdown",
   "id": "expired-stamp",
   "metadata": {},
   "source": [
    "![title](images/bandwidth.png)"
   ]
  },
  {
   "cell_type": "markdown",
   "id": "virtual-horizontal",
   "metadata": {},
   "source": [
    "The `librosa` libary provides an implementation at `librosa.feature.spectral_bandwidth`."
   ]
  },
  {
   "cell_type": "code",
   "execution_count": 48,
   "id": "pressed-juvenile",
   "metadata": {},
   "outputs": [],
   "source": [
    "sbw = librosa.feature.spectral_bandwidth(y_samp, hop_length=round(l*sr), center=False)\n",
    "sbw=sbw[0]"
   ]
  },
  {
   "cell_type": "code",
   "execution_count": 49,
   "id": "biblical-startup",
   "metadata": {},
   "outputs": [
    {
     "data": {
      "text/plain": [
       "[<matplotlib.lines.Line2D at 0x15a7470d0>]"
      ]
     },
     "execution_count": 49,
     "metadata": {},
     "output_type": "execute_result"
    },
    {
     "data": {
      "image/png": "[encoded data removed]",
      "text/plain": [
       "<Figure size 432x288 with 2 Axes>"
      ]
     },
     "metadata": {
      "needs_background": "light"
     },
     "output_type": "display_data"
    }
   ],
   "source": [
    "fig = plt.figure()\n",
    "ax1 = fig.add_subplot(111)\n",
    "ax2 = ax1.twinx()\n",
    "\n",
    "ax1.plot(x_samp, y_samp, color='blue')\n",
    "ax2.plot([x_samp[int(l*x*sr)] for x in range(len(sbw))], sbw, color='orange')"
   ]
  },
  {
   "cell_type": "markdown",
   "id": "authentic-senior",
   "metadata": {},
   "source": [
    "### 2.2.4 Mel Frequency Cepstral Coefficients"
   ]
  },
  {
   "cell_type": "markdown",
   "id": "inclusive-present",
   "metadata": {},
   "source": [
    "MFCC maps frequency magnitudes to the more perceptually relevant Mel frequencies. The mapping between frequency and Mel frequency is as follows."
   ]
  },
  {
   "cell_type": "markdown",
   "id": "incredible-former",
   "metadata": {},
   "source": [
    "![title](images/mel_freq.png)"
   ]
  },
  {
   "cell_type": "markdown",
   "id": "suited-faculty",
   "metadata": {},
   "source": [
    "This mapping is not a simple conversion. More information on exactly how this is achieved can be found [here](https://www.youtube.com/watch?v=9GHCiiDLHQ4)"
   ]
  },
  {
   "cell_type": "markdown",
   "id": "future-fusion",
   "metadata": {},
   "source": [
    "The `librosa` libary provides an implementation at `librosa.feature.mfcc`."
   ]
  },
  {
   "cell_type": "code",
   "execution_count": 50,
   "id": "national-monitor",
   "metadata": {},
   "outputs": [
    {
     "data": {
      "text/plain": [
       "array([-401.94168, -506.6168 , -522.7459 , -481.0779 , -453.2851 ,\n",
       "       -423.69168, -439.8585 , -430.5985 , -406.88666, -453.02203,\n",
       "       -496.9099 , -481.05655, -466.84317, -556.3727 , -490.56293,\n",
       "       -466.67734, -452.77725, -492.19757, -518.66925, -483.40103],\n",
       "      dtype=float32)"
      ]
     },
     "execution_count": 50,
     "metadata": {},
     "output_type": "execute_result"
    }
   ],
   "source": [
    "mfcc = librosa.feature.mfcc(y_samp, hop_length=round(l*sr), center=False)\n",
    "mfcc[0]"
   ]
  },
  {
   "cell_type": "markdown",
   "id": "018e1def",
   "metadata": {},
   "source": [
    "## 2.3 Pitch Curve Features"
   ]
  },
  {
   "cell_type": "markdown",
   "id": "6eb6a691",
   "metadata": {},
   "source": [
    "Here we will extract the pitch curve features of:\n",
    "\n",
    "- Max Pitch\n",
    "- Min Pitch\n",
    "- Pitch Range\n",
    "- Number of Change Points"
   ]
  },
  {
   "cell_type": "markdown",
   "id": "4dd86a8e",
   "metadata": {},
   "source": [
    "### 2.3.1 Load or Extract Pitch Track"
   ]
  },
  {
   "cell_type": "markdown",
   "id": "6878d65c",
   "metadata": {},
   "source": [
    "Some pitch features are best extracted from the time series of the predominant vocal pitch. If you already have the pitch curve extracted you should load it to a `numpy.array` of pitch and time values... `[(pitch, time),..]`\n",
    "\n",
    "Hint: You can load csv or tsv using `pandas.read_csv`\n",
    "\n",
    "Hint: To extract values to a numpy array from a pandas dataframe (`df`) column you can use `df['colname'].values`"
   ]
  },
  {
   "cell_type": "code",
   "execution_count": null,
   "id": "fdfa7dd3",
   "metadata": {},
   "outputs": [],
   "source": [
    "# load pitch curve to pandas dataframe or numpy array"
   ]
  },
  {
   "cell_type": "markdown",
   "id": "de77b7bb",
   "metadata": {},
   "source": [
    "Or alternatively extract the pitch curve using an existing implementation\n",
    "\n",
    "Hint: the `compiam` library has two pitch extractors implemented, `melodia` and `ftanet`. Each takes as an input the path (`vocal_path`) to the audio for which you want to extract the predominant pitch curve.\n",
    "\n",
    "```\n",
    "from compiam.melody.pitch_extraction import FTANetCarnatic\n",
    "from compiam.melody.pitch_extraction import Melodia\n",
    "\n",
    "melodia = Melodia() # initialise model\n",
    "ftanet = FTANetCarnatic() # initialise model\n",
    "\n",
    "melodia_pitch_track = melodia.extract(vocal_path)\n",
    "\n",
    "# melodia\n",
    "pitch = melodia_pitch_track[:,1]\n",
    "time = melodia_pitch_track[:,0]\n",
    "```\n",
    "\n",
    "Hint: Are you using the vocal stem or the mixed track? Have you applied source separation? Make sure to listen to the audio beforehand to ensure the quality."
   ]
  },
  {
   "cell_type": "markdown",
   "id": "f0532ce5",
   "metadata": {},
   "source": [
    "### 2.3.2 Plot Pitch Curve"
   ]
  },
  {
   "cell_type": "markdown",
   "id": "2d8a5be9",
   "metadata": {},
   "source": [
    "Are you able to plot a portion of this pitch curve?... frequency against time\n",
    "\n",
    "**Hint**: As above, `maplotlib.pyplot` will be useful here"
   ]
  },
  {
   "cell_type": "code",
   "execution_count": null,
   "id": "9ebc2f41",
   "metadata": {},
   "outputs": [],
   "source": [
    "# plot portion of pitch curve"
   ]
  },
  {
   "cell_type": "markdown",
   "id": "3a7c3bdd",
   "metadata": {},
   "source": [
    "### 2.3.3 Pre-process Pitch Curve"
   ]
  },
  {
   "cell_type": "markdown",
   "id": "8485e664",
   "metadata": {},
   "source": [
    "How does the pitch curve look. Do you need to apply some processing?\n",
    "\n",
    "**Hint**: You may look at `scipy.signal.savgol_filter` for smoothing\n",
    "\n",
    "**Hint**: To convert a frequency to cents above some reference point you can use the equation: `1200*log(f/ref, 2)` where `f` is the frequency and `ref` is the reference frequency, usually the performer tonic\n",
    "\n",
    "**Hint**: Are there any small erroneous gaps in the pitch curve? Perhaps listening to the audio might serve as a useful guide. If necessary you might want to interpolate these small gaps. `pd.Series.interpolate` has the ability to interpolate nan values, you must first replace the points in the curve that you want to interpolate with nan values."
   ]
  },
  {
   "cell_type": "code",
   "execution_count": null,
   "id": "f296c72a",
   "metadata": {},
   "outputs": [],
   "source": [
    "# processing steps"
   ]
  },
  {
   "cell_type": "markdown",
   "id": "cff46bf6",
   "metadata": {},
   "source": [
    "### 2.3.4 Min/max Pitch and Range"
   ]
  },
  {
   "cell_type": "markdown",
   "id": "26787c15",
   "metadata": {},
   "source": [
    "With the pitch curve clean and smoothed, it should be relatively simple to identify max pitch, min pitch and pitch range.\n",
    "\n",
    "**Hint**: `numpy.min()` and `numpy.max()` may be useful here"
   ]
  },
  {
   "cell_type": "code",
   "execution_count": null,
   "id": "47491e9f",
   "metadata": {},
   "outputs": [],
   "source": [
    "# extract minimum pitch"
   ]
  },
  {
   "cell_type": "code",
   "execution_count": null,
   "id": "1f304ddf",
   "metadata": {},
   "outputs": [],
   "source": [
    "# extract maximum pitch"
   ]
  },
  {
   "cell_type": "code",
   "execution_count": null,
   "id": "3a7ff8cd",
   "metadata": {},
   "outputs": [],
   "source": [
    "# compute pitch range"
   ]
  },
  {
   "cell_type": "markdown",
   "id": "ba59912c",
   "metadata": {},
   "source": [
    "### 2.3.4 Number of Change Points"
   ]
  },
  {
   "cell_type": "markdown",
   "id": "21dbb886",
   "metadata": {},
   "source": [
    "Identify change points (points of zero derivative) is slightly more complicated. We are interested in points at which the pitch curve changes direction. \n",
    "\n",
    "**Hint**: `scipy.signal.find_peaks()` should be sueful here, be sure to read the documentation, the most important parameter will be `prominence`\n",
    "\n",
    "**Hint**: `scipy.signal.find_peaks()` only identifies peaks in the pitch curve, but what about troughs? Flipping the curve in the y-direction before passing it to the function will convert peaks to troughs\n",
    "\n",
    "**Hint**: The following link contains a visual guide to `find_peaks()` parameters - https://stackoverflow.com/questions/1713335/peak-finding-algorithm-for-python-scipy\n",
    "\n",
    "**Hint**: Peaks or troughs with a topographic prominence (see `find_peaks` documentation) of below around 70 cents could reasonably be discounted as vibrato rather than ornamentation owing to musically meaningful gamaka\n",
    "\n",
    "**Hint**: Be sure to plot your curve with the idenified peaks to ensure it is working correctly"
   ]
  },
  {
   "cell_type": "code",
   "execution_count": null,
   "id": "8e0a1dce",
   "metadata": {},
   "outputs": [],
   "source": [
    "# Identify number of change points in pitch curve"
   ]
  },
  {
   "cell_type": "markdown",
   "id": "czech-apple",
   "metadata": {},
   "source": [
    "## 2.4 Extracting features across the dataset"
   ]
  },
  {
   "cell_type": "markdown",
   "id": "settled-majority",
   "metadata": {},
   "source": [
    "Now that you are able to extract features for one individual sample. Let's apply this to the entire dataset."
   ]
  },
  {
   "cell_type": "code",
   "execution_count": 341,
   "id": "a897512e",
   "metadata": {},
   "outputs": [],
   "source": [
    "clf = GradientBoostingClassifier()"
   ]
  },
  {
   "cell_type": "code",
   "execution_count": 342,
   "id": "4d2ca27d",
   "metadata": {},
   "outputs": [
    {
     "data": {
      "text/plain": [
       "GradientBoostingClassifier()"
      ]
     },
     "execution_count": 342,
     "metadata": {},
     "output_type": "execute_result"
    }
   ],
   "source": [
    "clf.fit(X, y)"
   ]
  },
  {
   "cell_type": "code",
   "execution_count": 344,
   "id": "4599f975",
   "metadata": {},
   "outputs": [
    {
     "data": {
      "text/plain": [
       "array([1, 0, 1, 1])"
      ]
     },
     "execution_count": 344,
     "metadata": {},
     "output_type": "execute_result"
    }
   ],
   "source": [
    "clf.predict(X)"
   ]
  },
  {
   "cell_type": "markdown",
   "id": "czech-league",
   "metadata": {},
   "source": [
    "For each filepath, load the audio sample and apply the feature extractors defined above. Make sure to store these features in a dataframe with columns=\\[`index`,`feature1`,`feature2`,`feature3`,...\\].\n",
    "\n",
    "**Hint**: `pandas.DataFrame` initialises a new dataframe\n",
    "\n",
    "**Hint**: `df.append` appends new rows to a pandas dataframe"
   ]
  },
  {
   "cell_type": "code",
   "execution_count": null,
   "id": "efficient-reservoir",
   "metadata": {},
   "outputs": [],
   "source": [
    "# iterate through df\n",
    "# extract features\n",
    "# store in new features dataframe"
   ]
  },
  {
   "cell_type": "markdown",
   "id": "congressional-tracy",
   "metadata": {},
   "source": [
    "Store this features dataframe alongside the original dataset\n",
    "\n",
    "**Hint**: `df.to_csv` writes a dataframe to csv file"
   ]
  },
  {
   "cell_type": "code",
   "execution_count": null,
   "id": "needed-worst",
   "metadata": {},
   "outputs": [],
   "source": [
    "# write dataframe"
   ]
  },
  {
   "cell_type": "code",
   "execution_count": 53,
   "id": "latest-natural",
   "metadata": {},
   "outputs": [],
   "source": [
    "import pandas as pd"
   ]
  },
  {
   "cell_type": "code",
   "execution_count": 88,
   "id": "moved-collective",
   "metadata": {},
   "outputs": [],
   "source": [
    "df = pd.DataFrame()"
   ]
  },
  {
   "cell_type": "code",
   "execution_count": 89,
   "id": "nonprofit-strategy",
   "metadata": {},
   "outputs": [],
   "source": [
    "def amp_max(samp):\n",
    "    return np.max(samp)"
   ]
  },
  {
   "cell_type": "code",
   "execution_count": 90,
   "id": "electric-being",
   "metadata": {},
   "outputs": [],
   "source": [
    "for samp in y_split:\n",
    "    features = {\n",
    "        'zcr': amp_max(samp),\n",
    "        'bw': amp_max(samp),\n",
    "        'bw': amp_max(samp),\n",
    "        'is_voice': np.random.randint(0, 1)\n",
    "    }\n",
    "    df = df.append(features, ignore_index=True)"
   ]
  },
  {
   "cell_type": "code",
   "execution_count": 91,
   "id": "olive-landscape",
   "metadata": {},
   "outputs": [
    {
     "data": {
      "text/html": [
       "<div>\n",
       "<style scoped>\n",
       "    .dataframe tbody tr th:only-of-type {\n",
       "        vertical-align: middle;\n",
       "    }\n",
       "\n",
       "    .dataframe tbody tr th {\n",
       "        vertical-align: top;\n",
       "    }\n",
       "\n",
       "    .dataframe thead th {\n",
       "        text-align: right;\n",
       "    }\n",
       "</style>\n",
       "<table border=\"1\" class=\"dataframe\">\n",
       "  <thead>\n",
       "    <tr style=\"text-align: right;\">\n",
       "      <th></th>\n",
       "      <th>bw</th>\n",
       "      <th>is_voice</th>\n",
       "      <th>zcr</th>\n",
       "    </tr>\n",
       "  </thead>\n",
       "  <tbody>\n",
       "    <tr>\n",
       "      <th>0</th>\n",
       "      <td>0.031395</td>\n",
       "      <td>0.0</td>\n",
       "      <td>0.031395</td>\n",
       "    </tr>\n",
       "    <tr>\n",
       "      <th>1</th>\n",
       "      <td>0.016285</td>\n",
       "      <td>0.0</td>\n",
       "      <td>0.016285</td>\n",
       "    </tr>\n",
       "    <tr>\n",
       "      <th>2</th>\n",
       "      <td>0.026724</td>\n",
       "      <td>0.0</td>\n",
       "      <td>0.026724</td>\n",
       "    </tr>\n",
       "    <tr>\n",
       "      <th>3</th>\n",
       "      <td>0.029273</td>\n",
       "      <td>0.0</td>\n",
       "      <td>0.029273</td>\n",
       "    </tr>\n",
       "    <tr>\n",
       "      <th>4</th>\n",
       "      <td>0.031940</td>\n",
       "      <td>0.0</td>\n",
       "      <td>0.031940</td>\n",
       "    </tr>\n",
       "    <tr>\n",
       "      <th>5</th>\n",
       "      <td>0.031330</td>\n",
       "      <td>0.0</td>\n",
       "      <td>0.031330</td>\n",
       "    </tr>\n",
       "    <tr>\n",
       "      <th>6</th>\n",
       "      <td>0.032487</td>\n",
       "      <td>0.0</td>\n",
       "      <td>0.032487</td>\n",
       "    </tr>\n",
       "    <tr>\n",
       "      <th>7</th>\n",
       "      <td>0.033518</td>\n",
       "      <td>0.0</td>\n",
       "      <td>0.033518</td>\n",
       "    </tr>\n",
       "    <tr>\n",
       "      <th>8</th>\n",
       "      <td>0.035810</td>\n",
       "      <td>0.0</td>\n",
       "      <td>0.035810</td>\n",
       "    </tr>\n",
       "    <tr>\n",
       "      <th>9</th>\n",
       "      <td>0.032852</td>\n",
       "      <td>0.0</td>\n",
       "      <td>0.032852</td>\n",
       "    </tr>\n",
       "    <tr>\n",
       "      <th>10</th>\n",
       "      <td>0.022551</td>\n",
       "      <td>0.0</td>\n",
       "      <td>0.022551</td>\n",
       "    </tr>\n",
       "    <tr>\n",
       "      <th>11</th>\n",
       "      <td>0.022938</td>\n",
       "      <td>0.0</td>\n",
       "      <td>0.022938</td>\n",
       "    </tr>\n",
       "    <tr>\n",
       "      <th>12</th>\n",
       "      <td>0.018713</td>\n",
       "      <td>0.0</td>\n",
       "      <td>0.018713</td>\n",
       "    </tr>\n",
       "    <tr>\n",
       "      <th>13</th>\n",
       "      <td>0.025971</td>\n",
       "      <td>0.0</td>\n",
       "      <td>0.025971</td>\n",
       "    </tr>\n",
       "    <tr>\n",
       "      <th>14</th>\n",
       "      <td>0.027071</td>\n",
       "      <td>0.0</td>\n",
       "      <td>0.027071</td>\n",
       "    </tr>\n",
       "    <tr>\n",
       "      <th>15</th>\n",
       "      <td>0.025536</td>\n",
       "      <td>0.0</td>\n",
       "      <td>0.025536</td>\n",
       "    </tr>\n",
       "    <tr>\n",
       "      <th>16</th>\n",
       "      <td>0.025003</td>\n",
       "      <td>0.0</td>\n",
       "      <td>0.025003</td>\n",
       "    </tr>\n",
       "    <tr>\n",
       "      <th>17</th>\n",
       "      <td>0.027653</td>\n",
       "      <td>0.0</td>\n",
       "      <td>0.027653</td>\n",
       "    </tr>\n",
       "    <tr>\n",
       "      <th>18</th>\n",
       "      <td>0.028539</td>\n",
       "      <td>0.0</td>\n",
       "      <td>0.028539</td>\n",
       "    </tr>\n",
       "    <tr>\n",
       "      <th>19</th>\n",
       "      <td>0.030329</td>\n",
       "      <td>0.0</td>\n",
       "      <td>0.030329</td>\n",
       "    </tr>\n",
       "  </tbody>\n",
       "</table>\n",
       "</div>"
      ],
      "text/plain": [
       "          bw  is_voice       zcr\n",
       "0   0.031395       0.0  0.031395\n",
       "1   0.016285       0.0  0.016285\n",
       "2   0.026724       0.0  0.026724\n",
       "3   0.029273       0.0  0.029273\n",
       "4   0.031940       0.0  0.031940\n",
       "5   0.031330       0.0  0.031330\n",
       "6   0.032487       0.0  0.032487\n",
       "7   0.033518       0.0  0.033518\n",
       "8   0.035810       0.0  0.035810\n",
       "9   0.032852       0.0  0.032852\n",
       "10  0.022551       0.0  0.022551\n",
       "11  0.022938       0.0  0.022938\n",
       "12  0.018713       0.0  0.018713\n",
       "13  0.025971       0.0  0.025971\n",
       "14  0.027071       0.0  0.027071\n",
       "15  0.025536       0.0  0.025536\n",
       "16  0.025003       0.0  0.025003\n",
       "17  0.027653       0.0  0.027653\n",
       "18  0.028539       0.0  0.028539\n",
       "19  0.030329       0.0  0.030329"
      ]
     },
     "execution_count": 91,
     "metadata": {},
     "output_type": "execute_result"
    }
   ],
   "source": [
    "# df[feat].fillna(df[feat].mean()) # mean"
   ]
  },
  {
   "cell_type": "code",
   "execution_count": 92,
   "id": "chief-entrance",
   "metadata": {},
   "outputs": [
    {
     "ename": "NameError",
     "evalue": "name 'feat' is not defined",
     "output_type": "error",
     "traceback": [
      "\u001b[0;31m---------------------------------------------------------------------------\u001b[0m",
      "\u001b[0;31mNameError\u001b[0m                                 Traceback (most recent call last)",
      "\u001b[0;32m<ipython-input-92-4437d316c57b>\u001b[0m in \u001b[0;36m<module>\u001b[0;34m\u001b[0m\n\u001b[1;32m      1\u001b[0m \u001b[0;31m# df.zscore\u001b[0m\u001b[0;34m\u001b[0m\u001b[0;34m\u001b[0m\u001b[0;34m\u001b[0m\u001b[0m\n\u001b[0;32m----> 2\u001b[0;31m \u001b[0;34m(\u001b[0m\u001b[0mdf\u001b[0m\u001b[0;34m[\u001b[0m\u001b[0mfeat\u001b[0m\u001b[0;34m]\u001b[0m \u001b[0;34m-\u001b[0m \u001b[0mdf\u001b[0m\u001b[0;34m[\u001b[0m\u001b[0mfeat\u001b[0m\u001b[0;34m]\u001b[0m\u001b[0;34m.\u001b[0m\u001b[0mmean\u001b[0m\u001b[0;34m(\u001b[0m\u001b[0;34m)\u001b[0m\u001b[0;34m)\u001b[0m\u001b[0;34m/\u001b[0m\u001b[0mdf\u001b[0m\u001b[0;34m[\u001b[0m\u001b[0mfeat\u001b[0m\u001b[0;34m]\u001b[0m\u001b[0;34m.\u001b[0m\u001b[0mstd\u001b[0m\u001b[0;34m(\u001b[0m\u001b[0;34m)\u001b[0m\u001b[0;34m\u001b[0m\u001b[0;34m\u001b[0m\u001b[0m\n\u001b[0m",
      "\u001b[0;31mNameError\u001b[0m: name 'feat' is not defined"
     ]
    }
   ],
   "source": [
    "# df.zscore\n",
    "(df[feat] - df[feat].mean())/df[feat].std()"
   ]
  },
  {
   "cell_type": "code",
   "execution_count": 93,
   "id": "requested-element",
   "metadata": {},
   "outputs": [
    {
     "data": {
      "text/html": [
       "<div>\n",
       "<style scoped>\n",
       "    .dataframe tbody tr th:only-of-type {\n",
       "        vertical-align: middle;\n",
       "    }\n",
       "\n",
       "    .dataframe tbody tr th {\n",
       "        vertical-align: top;\n",
       "    }\n",
       "\n",
       "    .dataframe thead th {\n",
       "        text-align: right;\n",
       "    }\n",
       "</style>\n",
       "<table border=\"1\" class=\"dataframe\">\n",
       "  <thead>\n",
       "    <tr style=\"text-align: right;\">\n",
       "      <th></th>\n",
       "      <th>bw</th>\n",
       "      <th>is_voice</th>\n",
       "      <th>zcr</th>\n",
       "    </tr>\n",
       "  </thead>\n",
       "  <tbody>\n",
       "    <tr>\n",
       "      <th>0</th>\n",
       "      <td>0.031395</td>\n",
       "      <td>0.0</td>\n",
       "      <td>0.031395</td>\n",
       "    </tr>\n",
       "    <tr>\n",
       "      <th>1</th>\n",
       "      <td>0.016285</td>\n",
       "      <td>0.0</td>\n",
       "      <td>0.016285</td>\n",
       "    </tr>\n",
       "    <tr>\n",
       "      <th>2</th>\n",
       "      <td>0.026724</td>\n",
       "      <td>0.0</td>\n",
       "      <td>0.026724</td>\n",
       "    </tr>\n",
       "    <tr>\n",
       "      <th>3</th>\n",
       "      <td>0.029273</td>\n",
       "      <td>0.0</td>\n",
       "      <td>0.029273</td>\n",
       "    </tr>\n",
       "    <tr>\n",
       "      <th>4</th>\n",
       "      <td>0.031940</td>\n",
       "      <td>0.0</td>\n",
       "      <td>0.031940</td>\n",
       "    </tr>\n",
       "    <tr>\n",
       "      <th>5</th>\n",
       "      <td>0.031330</td>\n",
       "      <td>0.0</td>\n",
       "      <td>0.031330</td>\n",
       "    </tr>\n",
       "    <tr>\n",
       "      <th>6</th>\n",
       "      <td>0.032487</td>\n",
       "      <td>0.0</td>\n",
       "      <td>0.032487</td>\n",
       "    </tr>\n",
       "    <tr>\n",
       "      <th>7</th>\n",
       "      <td>0.033518</td>\n",
       "      <td>0.0</td>\n",
       "      <td>0.033518</td>\n",
       "    </tr>\n",
       "    <tr>\n",
       "      <th>8</th>\n",
       "      <td>0.035810</td>\n",
       "      <td>0.0</td>\n",
       "      <td>0.035810</td>\n",
       "    </tr>\n",
       "    <tr>\n",
       "      <th>9</th>\n",
       "      <td>0.032852</td>\n",
       "      <td>0.0</td>\n",
       "      <td>0.032852</td>\n",
       "    </tr>\n",
       "    <tr>\n",
       "      <th>10</th>\n",
       "      <td>0.022551</td>\n",
       "      <td>0.0</td>\n",
       "      <td>0.022551</td>\n",
       "    </tr>\n",
       "    <tr>\n",
       "      <th>11</th>\n",
       "      <td>0.022938</td>\n",
       "      <td>0.0</td>\n",
       "      <td>0.022938</td>\n",
       "    </tr>\n",
       "    <tr>\n",
       "      <th>12</th>\n",
       "      <td>0.018713</td>\n",
       "      <td>0.0</td>\n",
       "      <td>0.018713</td>\n",
       "    </tr>\n",
       "    <tr>\n",
       "      <th>13</th>\n",
       "      <td>0.025971</td>\n",
       "      <td>0.0</td>\n",
       "      <td>0.025971</td>\n",
       "    </tr>\n",
       "    <tr>\n",
       "      <th>14</th>\n",
       "      <td>0.027071</td>\n",
       "      <td>0.0</td>\n",
       "      <td>0.027071</td>\n",
       "    </tr>\n",
       "    <tr>\n",
       "      <th>15</th>\n",
       "      <td>0.025536</td>\n",
       "      <td>0.0</td>\n",
       "      <td>0.025536</td>\n",
       "    </tr>\n",
       "    <tr>\n",
       "      <th>16</th>\n",
       "      <td>0.025003</td>\n",
       "      <td>0.0</td>\n",
       "      <td>0.025003</td>\n",
       "    </tr>\n",
       "    <tr>\n",
       "      <th>17</th>\n",
       "      <td>0.027653</td>\n",
       "      <td>0.0</td>\n",
       "      <td>0.027653</td>\n",
       "    </tr>\n",
       "    <tr>\n",
       "      <th>18</th>\n",
       "      <td>0.028539</td>\n",
       "      <td>0.0</td>\n",
       "      <td>0.028539</td>\n",
       "    </tr>\n",
       "    <tr>\n",
       "      <th>19</th>\n",
       "      <td>0.030329</td>\n",
       "      <td>0.0</td>\n",
       "      <td>0.030329</td>\n",
       "    </tr>\n",
       "  </tbody>\n",
       "</table>\n",
       "</div>"
      ],
      "text/plain": [
       "          bw  is_voice       zcr\n",
       "0   0.031395       0.0  0.031395\n",
       "1   0.016285       0.0  0.016285\n",
       "2   0.026724       0.0  0.026724\n",
       "3   0.029273       0.0  0.029273\n",
       "4   0.031940       0.0  0.031940\n",
       "5   0.031330       0.0  0.031330\n",
       "6   0.032487       0.0  0.032487\n",
       "7   0.033518       0.0  0.033518\n",
       "8   0.035810       0.0  0.035810\n",
       "9   0.032852       0.0  0.032852\n",
       "10  0.022551       0.0  0.022551\n",
       "11  0.022938       0.0  0.022938\n",
       "12  0.018713       0.0  0.018713\n",
       "13  0.025971       0.0  0.025971\n",
       "14  0.027071       0.0  0.027071\n",
       "15  0.025536       0.0  0.025536\n",
       "16  0.025003       0.0  0.025003\n",
       "17  0.027653       0.0  0.027653\n",
       "18  0.028539       0.0  0.028539\n",
       "19  0.030329       0.0  0.030329"
      ]
     },
     "execution_count": 93,
     "metadata": {},
     "output_type": "execute_result"
    }
   ],
   "source": [
    "df"
   ]
  },
  {
   "cell_type": "code",
   "execution_count": 94,
   "id": "grave-squad",
   "metadata": {},
   "outputs": [],
   "source": [
    "features = ['bw', 'zcr']"
   ]
  },
  {
   "cell_type": "code",
   "execution_count": 95,
   "id": "intelligent-model",
   "metadata": {},
   "outputs": [],
   "source": [
    "target = 'is_voice'"
   ]
  },
  {
   "cell_type": "code",
   "execution_count": 97,
   "id": "sapphire-colon",
   "metadata": {},
   "outputs": [],
   "source": [
    "X = df[features]\n",
    "y = df[target]"
   ]
  },
  {
   "cell_type": "code",
   "execution_count": 98,
   "id": "sorted-costa",
   "metadata": {},
   "outputs": [],
   "source": [
    "from sklearn.model_selection import train_test_split"
   ]
  },
  {
   "cell_type": "code",
   "execution_count": 99,
   "id": "incredible-consideration",
   "metadata": {},
   "outputs": [],
   "source": [
    "X_train, X_test, y_train, y_test = train_test_split(X, y, test_size=0.33, random_state=42)"
   ]
  },
  {
   "cell_type": "code",
   "execution_count": 101,
   "id": "atmospheric-hollow",
   "metadata": {},
   "outputs": [
    {
     "data": {
      "text/html": [
       "<div>\n",
       "<style scoped>\n",
       "    .dataframe tbody tr th:only-of-type {\n",
       "        vertical-align: middle;\n",
       "    }\n",
       "\n",
       "    .dataframe tbody tr th {\n",
       "        vertical-align: top;\n",
       "    }\n",
       "\n",
       "    .dataframe thead th {\n",
       "        text-align: right;\n",
       "    }\n",
       "</style>\n",
       "<table border=\"1\" class=\"dataframe\">\n",
       "  <thead>\n",
       "    <tr style=\"text-align: right;\">\n",
       "      <th></th>\n",
       "      <th>bw</th>\n",
       "      <th>zcr</th>\n",
       "    </tr>\n",
       "  </thead>\n",
       "  <tbody>\n",
       "    <tr>\n",
       "      <th>3</th>\n",
       "      <td>0.029273</td>\n",
       "      <td>0.029273</td>\n",
       "    </tr>\n",
       "    <tr>\n",
       "      <th>18</th>\n",
       "      <td>0.028539</td>\n",
       "      <td>0.028539</td>\n",
       "    </tr>\n",
       "    <tr>\n",
       "      <th>16</th>\n",
       "      <td>0.025003</td>\n",
       "      <td>0.025003</td>\n",
       "    </tr>\n",
       "    <tr>\n",
       "      <th>13</th>\n",
       "      <td>0.025971</td>\n",
       "      <td>0.025971</td>\n",
       "    </tr>\n",
       "    <tr>\n",
       "      <th>2</th>\n",
       "      <td>0.026724</td>\n",
       "      <td>0.026724</td>\n",
       "    </tr>\n",
       "    <tr>\n",
       "      <th>9</th>\n",
       "      <td>0.032852</td>\n",
       "      <td>0.032852</td>\n",
       "    </tr>\n",
       "    <tr>\n",
       "      <th>19</th>\n",
       "      <td>0.030329</td>\n",
       "      <td>0.030329</td>\n",
       "    </tr>\n",
       "    <tr>\n",
       "      <th>4</th>\n",
       "      <td>0.031940</td>\n",
       "      <td>0.031940</td>\n",
       "    </tr>\n",
       "    <tr>\n",
       "      <th>12</th>\n",
       "      <td>0.018713</td>\n",
       "      <td>0.018713</td>\n",
       "    </tr>\n",
       "    <tr>\n",
       "      <th>7</th>\n",
       "      <td>0.033518</td>\n",
       "      <td>0.033518</td>\n",
       "    </tr>\n",
       "    <tr>\n",
       "      <th>10</th>\n",
       "      <td>0.022551</td>\n",
       "      <td>0.022551</td>\n",
       "    </tr>\n",
       "    <tr>\n",
       "      <th>14</th>\n",
       "      <td>0.027071</td>\n",
       "      <td>0.027071</td>\n",
       "    </tr>\n",
       "    <tr>\n",
       "      <th>6</th>\n",
       "      <td>0.032487</td>\n",
       "      <td>0.032487</td>\n",
       "    </tr>\n",
       "  </tbody>\n",
       "</table>\n",
       "</div>"
      ],
      "text/plain": [
       "          bw       zcr\n",
       "3   0.029273  0.029273\n",
       "18  0.028539  0.028539\n",
       "16  0.025003  0.025003\n",
       "13  0.025971  0.025971\n",
       "2   0.026724  0.026724\n",
       "9   0.032852  0.032852\n",
       "19  0.030329  0.030329\n",
       "4   0.031940  0.031940\n",
       "12  0.018713  0.018713\n",
       "7   0.033518  0.033518\n",
       "10  0.022551  0.022551\n",
       "14  0.027071  0.027071\n",
       "6   0.032487  0.032487"
      ]
     },
     "execution_count": 101,
     "metadata": {},
     "output_type": "execute_result"
    }
   ],
   "source": [
    "X_train"
   ]
  },
  {
   "cell_type": "code",
   "execution_count": null,
   "id": "senior-tender",
   "metadata": {},
   "outputs": [],
   "source": []
  }
 ],
 "metadata": {
  "kernelspec": {
   "display_name": "carnatic",
   "language": "python",
   "name": "carnatic"
  },
  "language_info": {
   "codemirror_mode": {
    "name": "ipython",
    "version": 3
   },
   "file_extension": ".py",
   "mimetype": "text/x-python",
   "name": "python",
   "nbconvert_exporter": "python",
   "pygments_lexer": "ipython3",
   "version": "3.7.17"
  }
 },
 "nbformat": 4,
 "nbformat_minor": 5
}
